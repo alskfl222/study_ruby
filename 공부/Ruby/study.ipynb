{
 "cells": [
  {
   "cell_type": "code",
   "execution_count": null,
   "metadata": {},
   "outputs": [],
   "source": [
    "puts 'aa'\n",
    "print 'bb'"
   ]
  },
  {
   "cell_type": "code",
   "execution_count": null,
   "metadata": {},
   "outputs": [],
   "source": [
    "i = 1\n",
    "while i <= 5\n",
    "  puts \"#{i}\"\n",
    "  i += 1\n",
    "end"
   ]
  },
  {
   "cell_type": "code",
   "execution_count": null,
   "metadata": {},
   "outputs": [],
   "source": [
    "i = 0\n",
    "for i in 0..5\n",
    "  puts \"#{i}\"\n",
    "end"
   ]
  },
  {
   "cell_type": "code",
   "execution_count": null,
   "metadata": {},
   "outputs": [],
   "source": [
    "i = 0\n",
    "for i in 0...5\n",
    "  puts \"#{i}\"\n",
    "end"
   ]
  },
  {
   "cell_type": "code",
   "execution_count": null,
   "metadata": {},
   "outputs": [],
   "source": [
    "# puts 'input id'\n",
    "# id = gets.chomp()\n",
    "id = IRuby.input 'input id'\n",
    "\n",
    "if id == 'test'\n",
    "\tputs 'Done'\n",
    "else\n",
    "\tputs 'Error'\n",
    "end"
   ]
  },
  {
   "cell_type": "code",
   "execution_count": null,
   "metadata": {},
   "outputs": [],
   "source": [
    "puts('Hello'+'Ruby')\n",
    "puts('Ruby'*3)\n",
    "puts('goorm'.upcase())\n",
    "puts('goorm'.length())"
   ]
  },
  {
   "cell_type": "code",
   "execution_count": null,
   "metadata": {},
   "outputs": [],
   "source": [
    "s = 'Hello variables!'\n",
    "a = 10\n",
    "puts s\n",
    "puts a"
   ]
  },
  {
   "cell_type": "code",
   "execution_count": null,
   "metadata": {},
   "outputs": [],
   "source": [
    "name = '구름'\n",
    "puts '안녕하세요, '+name+'님'\n",
    "puts name+'님 만나서 반갑습니다'\n",
    "puts \"#{name}님 다시 만나서 반갑습니다\""
   ]
  },
  {
   "cell_type": "code",
   "execution_count": null,
   "metadata": {},
   "outputs": [],
   "source": [
    "a = 3\n",
    "b = 4\n",
    "c = (a**2)+(b**2)\n",
    "puts Math.sqrt(c)\n",
    "puts Math.sqrt((3**2)+(4**2))"
   ]
  },
  {
   "cell_type": "code",
   "execution_count": null,
   "metadata": {},
   "outputs": [],
   "source": [
    "if true\n",
    "\tputs 'true'\n",
    "end\n",
    "puts 'anyway'"
   ]
  },
  {
   "cell_type": "code",
   "execution_count": null,
   "metadata": {},
   "outputs": [],
   "source": [
    "x = 199\n",
    "if x > 2\n",
    "\tputs 'if'\n",
    "else\n",
    "\tputs 'else'\n",
    "end\n",
    "puts 'end'"
   ]
  },
  {
   "cell_type": "code",
   "execution_count": null,
   "metadata": {},
   "outputs": [],
   "source": [
    "x = 1\n",
    "if x > 2\n",
    "\tputs 'if'\n",
    "elseif x > 1\n",
    "\tputs 'elseif'\n",
    "else\n",
    "\tputs 'else'\n",
    "end\n",
    "puts 'end'"
   ]
  },
  {
   "cell_type": "code",
   "execution_count": null,
   "metadata": {},
   "outputs": [],
   "source": [
    "while true\n",
    "\tputs 'while true!'\n",
    "\tbreak\n",
    "end\n",
    "puts 'end'"
   ]
  },
  {
   "cell_type": "code",
   "execution_count": null,
   "metadata": {},
   "outputs": [],
   "source": [
    "for i in 0..5\n",
    "\tputs \"#{i}\"\n",
    "end"
   ]
  },
  {
   "cell_type": "code",
   "execution_count": null,
   "metadata": {},
   "outputs": [],
   "source": [
    "fruit = ['apple', 'orange', 'mango', 'plum', 'berry']\n",
    "puts fruit[0]\n",
    "puts fruit[1]\n",
    "puts fruit[2]\n",
    "puts fruit[3]\n",
    "puts fruit[4]"
   ]
  },
  {
   "cell_type": "code",
   "execution_count": null,
   "metadata": {},
   "outputs": [],
   "source": [
    "names = Array.new"
   ]
  },
  {
   "cell_type": "code",
   "execution_count": null,
   "metadata": {},
   "outputs": [],
   "source": [
    "names = Array.new(20)\n",
    "print names\n",
    "puts\n",
    "puts names.size\n",
    "puts names.length"
   ]
  },
  {
   "cell_type": "code",
   "execution_count": null,
   "metadata": {},
   "outputs": [],
   "source": [
    "names = Array.new(5, \"Ruby\")"
   ]
  },
  {
   "cell_type": "code",
   "execution_count": null,
   "metadata": {},
   "outputs": [],
   "source": [
    "for index in 0..names.size\n",
    "  puts names[index]\n",
    "end\n",
    "\n",
    "for name in names\n",
    "\tputs name\n",
    "end\n",
    "puts\n",
    "\n",
    "names.each { |name| puts name}\n",
    "# 반복자"
   ]
  },
  {
   "cell_type": "code",
   "execution_count": null,
   "metadata": {},
   "outputs": [],
   "source": [
    "grades = {\"Soohorang\" => 9, \"Bandabi\"=> 7}\n",
    "puts grades[\"Soohorang\"]\n",
    "puts grades[\"Bandabi\"]"
   ]
  },
  {
   "cell_type": "code",
   "execution_count": null,
   "metadata": {},
   "outputs": [],
   "source": [
    "arr = [1, 2, 3, 4, 5]\n",
    "arr.each {|a| puts a}\n",
    "# 혹은 아래처럼\n",
    "puts\n",
    "arr.each do |a|\n",
    "  \tputs a\n",
    "end"
   ]
  },
  {
   "cell_type": "code",
   "execution_count": null,
   "metadata": {},
   "outputs": [],
   "source": [
    "grades = {\"Soohorang\" => 9, \"Bandabi\"=> 7}\n",
    "grades.each{|k, v| puts \"Key: #{k}, Value: #{v}\"}"
   ]
  },
  {
   "cell_type": "code",
   "execution_count": null,
   "metadata": {},
   "outputs": [],
   "source": [
    "def hello()\n",
    "\tputs \"Hello, Ruby!\"\n",
    "end\n",
    "hello()"
   ]
  },
  {
   "cell_type": "code",
   "execution_count": null,
   "metadata": {},
   "outputs": [],
   "source": [
    "def hello()\n",
    "\tstr = \"Hello, Ruby!\"\n",
    "\treturn str\n",
    "end\n",
    "puts (hello())"
   ]
  },
  {
   "cell_type": "code",
   "execution_count": null,
   "metadata": {},
   "outputs": [],
   "source": [
    "def hello(str, *mvar)\n",
    "\tputs str\n",
    "  print mvar\n",
    "  puts\n",
    "\tmvar.each do |var|\n",
    "\t\tputs var\n",
    "\tend\n",
    "end\n",
    "\n",
    "hello('a','b','c','d')"
   ]
  },
  {
   "cell_type": "code",
   "execution_count": null,
   "metadata": {},
   "outputs": [],
   "source": [
    "5.times() {|i| puts i}\n",
    "puts\n",
    "3.upto(5) {|i| puts i}"
   ]
  },
  {
   "cell_type": "code",
   "execution_count": null,
   "metadata": {},
   "outputs": [],
   "source": [
    "# 메소드\n",
    "def my_method\n",
    "\tputs 'start'\n",
    "\tyield\n",
    "\tputs 'end'\n",
    "end\n",
    "# 블록\n",
    "my_method do\n",
    "\tputs \"yield\"\n",
    "end"
   ]
  },
  {
   "cell_type": "code",
   "execution_count": null,
   "metadata": {},
   "outputs": [],
   "source": [
    "# 메소드\n",
    "def my_method\n",
    "\tyield(\"goorm\", 6)\n",
    "end\n",
    "# 블록\n",
    "my_method do |name, age|\n",
    "\tputs \"#{name} is #{age} years old\"\n",
    "end"
   ]
  },
  {
   "cell_type": "code",
   "execution_count": null,
   "metadata": {},
   "outputs": [],
   "source": [
    "# 메소드\n",
    "def my_method\n",
    "\tvalue = yield\n",
    "\tputs \"value from block : #{value}\"\n",
    "end\n",
    "# 블록\n",
    "my_method do\n",
    "\t10\n",
    "end"
   ]
  },
  {
   "cell_type": "code",
   "execution_count": null,
   "metadata": {},
   "outputs": [],
   "source": [
    "puts(Math.sqrt(25))\n",
    "puts(Math::PI)"
   ]
  },
  {
   "cell_type": "code",
   "execution_count": null,
   "metadata": {},
   "outputs": [],
   "source": [
    "# data/cafe.rb\n",
    "module Cafe\n",
    "\tmodule_function()\n",
    "  # module_function()은 다른 파일에 모듈을 생성하였을때, 모듈 안에 있는 여러 메소드를 접근 가능하도록 만들어주는 내장 메소드라한다.\n",
    "\tdef show_menu(beverage)\n",
    "\t\tputs \"Menu\"\n",
    "\t\tbeverage.each {|name, price| puts \"#{name}\\t#{price}\"}\n",
    "\tend\n",
    "\tdef show_price(beverage, select)\n",
    "\t\tbeverage.each do |name, price|\n",
    "\t\t\tif select == name\n",
    "\t\t\t\treturn \"#{price}원 입니다\"\n",
    "\t\t\tend\n",
    "\t\tend\n",
    "\t\treturn \"그런 음료는 판매하지 않습니다\"\n",
    "\tend\n",
    "end"
   ]
  },
  {
   "cell_type": "code",
   "execution_count": null,
   "metadata": {},
   "outputs": [],
   "source": [
    "beverage = {'coke' => 3000, 'juice' => 4000, 'tea' => 6000, 'coffee' => 5000}\n",
    "\n",
    "Cafe.show_menu(beverage)\n",
    "select = 'coke'\n",
    "puts Cafe.show_price(beverage, select)\n",
    "\n",
    "select = 'pepsi'\n",
    "puts Cafe.show_price(beverage, select)"
   ]
  },
  {
   "cell_type": "code",
   "execution_count": null,
   "metadata": {},
   "outputs": [],
   "source": [
    "class Box\n",
    "\t@@num_of_box = 0\n",
    "\tdef initialize(name, color, size)\n",
    "\t\t@box_name = name\n",
    "\t\t@box_color = color\n",
    "\t\t@box_size = size\n",
    "\tend\n",
    "\tattr_reader :box_name\n",
    "end"
   ]
  },
  {
   "cell_type": "code",
   "execution_count": null,
   "metadata": {},
   "outputs": [],
   "source": [
    "box1 = Box.new(\"Toy\", \"Brown\", \"Small\")\n",
    "box2 = Box.new(\"Clothes\", \"White\", \"Large\")"
   ]
  },
  {
   "cell_type": "code",
   "execution_count": null,
   "metadata": {},
   "outputs": [],
   "source": [
    "puts ObjectSpace.each_object(Box).count\n",
    "puts box1.instance_variable_get(:@box_name)\n",
    "puts box2.instance_variable_get(:@box_color)"
   ]
  },
  {
   "cell_type": "code",
   "execution_count": null,
   "metadata": {},
   "outputs": [],
   "source": [
    "puts box1.box_name\n",
    "puts box1.box_color"
   ]
  },
  {
   "cell_type": "code",
   "execution_count": 9,
   "metadata": {},
   "outputs": [
    {
     "name": "stdout",
     "output_type": "stream",
     "text": [
      "10\n",
      "20\n"
     ]
    },
    {
     "ename": "NameError",
     "evalue": "undefined local variable or method `num1' for #<#<Class:0x000000010e07c678>::Calculator:0x000000010ebbb390>",
     "output_type": "error",
     "traceback": [
      "\u001b[31mNameError\u001b[0m: undefined local variable or method `num1' for #<#<Class:0x000000010e07c678>::Calculator:0x000000010ebbb390>",
      "(irb):5:in `add'",
      "(irb):10:in `<top (required)>'"
     ]
    }
   ],
   "source": [
    "class Calculator\n",
    "\tdef initialize(num1, num2)\n",
    "\t\tputs num1, num2\n",
    "\tend\n",
    "\tdef add()\n",
    "\t\treturn num1 + num2\n",
    "\tend\n",
    "end\n",
    "\n",
    "cal_1 = Calculator.new(10, 20)\n",
    "puts cal_1.add()"
   ]
  },
  {
   "cell_type": "code",
   "execution_count": 10,
   "metadata": {},
   "outputs": [
    {
     "name": "stdout",
     "output_type": "stream",
     "text": [
      "10\n",
      "20\n",
      "30\n"
     ]
    }
   ],
   "source": [
    "class Calculator\n",
    "\tdef initialize(num1, num2)\n",
    "\t\tputs num1, num2\n",
    "\t\t@Cal_num1 = num1\n",
    "\t\t@Cal_num2 = num2\n",
    "\tend\n",
    "\tdef add()\n",
    "\t\treturn @Cal_num1 + @Cal_num2\n",
    "\tend\n",
    "end\n",
    "\n",
    "cal_1 = Calculator.new(10, 20)\n",
    "puts cal_1.add()"
   ]
  },
  {
   "cell_type": "code",
   "execution_count": 11,
   "metadata": {},
   "outputs": [
    {
     "name": "stdout",
     "output_type": "stream",
     "text": [
      "30\n",
      "-10\n"
     ]
    }
   ],
   "source": [
    "class Calculator\n",
    "  def initialize(num1, num2)\n",
    "      @Cal_num1 = num1\n",
    "      @Cal_num2 = num2\n",
    "  end\n",
    "  def add()\n",
    "      return @Cal_num1+@Cal_num2\n",
    "  end\n",
    "end\n",
    "\n",
    "class Cal_Sub < Calculator\n",
    "def sub()\n",
    "  return @Cal_num1-@Cal_num2\n",
    "end\n",
    "end\n",
    "\n",
    "cal_1 = Cal_Sub.new(10, 20)\n",
    "puts cal_1.add()\n",
    "puts cal_1.sub()"
   ]
  },
  {
   "cell_type": "code",
   "execution_count": 13,
   "metadata": {},
   "outputs": [
    {
     "name": "stdout",
     "output_type": "stream",
     "text": [
      "I'm cleaning my feathers\n",
      "I'm flying\n",
      "I'm cleaning my feathers\n",
      "I believe I can fly\n"
     ]
    }
   ],
   "source": [
    "class Bird\n",
    "\tdef preen\n",
    "\t\tputs \"I'm cleaning my feathers\"\n",
    "\tend\n",
    "\tdef fly\n",
    "\t\tputs \"I'm flying\"\n",
    "\tend\n",
    "end\n",
    "class Penguin < Bird\n",
    "\tdef fly \n",
    "\t\tputs \"I believe I can fly\"\n",
    "\tend\n",
    "end\n",
    "\n",
    "bingu = Bird.new\n",
    "bingu.preen\n",
    "bingu.fly\n",
    "pingu = Penguin.new\n",
    "pingu.preen\n",
    "pingu.fly"
   ]
  },
  {
   "cell_type": "code",
   "execution_count": 15,
   "metadata": {},
   "outputs": [
    {
     "name": "stdout",
     "output_type": "stream",
     "text": [
      "I'm cleaning my feathers\n",
      "I'm flying\n",
      "Let's crush the castle\n"
     ]
    }
   ],
   "source": [
    "class Angry_Bird < Bird\n",
    "\tdef fly \n",
    "\t\tsuper\n",
    "\t\tputs \"Let's crush the castle\"\n",
    "\tend\n",
    "end\n",
    "red = Angry_Bird.new\n",
    "red.preen\n",
    "red.fly"
   ]
  },
  {
   "cell_type": "code",
   "execution_count": 16,
   "metadata": {},
   "outputs": [
    {
     "name": "stdout",
     "output_type": "stream",
     "text": [
      "turn on the light\n",
      "switch colors\n",
      "flicker light\n"
     ]
    }
   ],
   "source": [
    "module Func_A\n",
    "\tdef color\n",
    "\t\tputs \"switch colors\"\n",
    "\tend\n",
    "end\n",
    "module Func_B\n",
    "\tdef flicker\n",
    "\t\tputs \"flicker light\"\n",
    "\tend\n",
    "end\n",
    "class Lamp\n",
    "\tinclude Func_A, Func_B\n",
    "\tdef light\n",
    "\t\tputs \"turn on the light\"\n",
    "\tend\n",
    "end\n",
    "\n",
    "my_lamp = Lamp.new()\n",
    "my_lamp.light\n",
    "my_lamp.color\n",
    "my_lamp.flicker"
   ]
  }
 ],
 "metadata": {
  "kernelspec": {
   "display_name": "Ruby 3.1.2",
   "language": "ruby",
   "name": "ruby"
  },
  "language_info": {
   "file_extension": ".rb",
   "mimetype": "application/x-ruby",
   "name": "ruby",
   "version": "3.1.2"
  },
  "orig_nbformat": 4
 },
 "nbformat": 4,
 "nbformat_minor": 2
}
